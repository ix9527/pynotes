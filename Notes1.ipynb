{
 "cells": [
  {
   "cell_type": "code",
   "execution_count": null,
   "metadata": {
    "collapsed": true
   },
   "outputs": [],
   "source": [
    "def ourSum(lower,upper, margin=0):\n",
    "    blanks=\"\"*margin\n",
    "    print(blank, lower, upper)\n",
    "    if lower > upper:\n",
    "        print(blanks, 0)\n",
    "        return 0\n",
    "    else:\n",
    "        result = lower + ourSum()"
   ]
  },
  {
   "cell_type": "code",
   "execution_count": 3,
   "metadata": {
    "collapsed": false
   },
   "outputs": [
    {
     "name": "stdout",
     "output_type": "stream",
     "text": [
      "80200\n"
     ]
    }
   ],
   "source": [
    "def ourSum(lower, upper):\n",
    "    if lower > upper:\n",
    "        return 0\n",
    "    else:\n",
    "        return lower+ourSum(lower + 1, upper)\n",
    "print(ourSum(1,400))"
   ]
  },
  {
   "cell_type": "code",
   "execution_count": 2,
   "metadata": {
    "collapsed": false
   },
   "outputs": [
    {
     "name": "stdout",
     "output_type": "stream",
     "text": [
      "i am staying in room number 301\n"
     ]
    }
   ],
   "source": [
    "room = 301\n",
    "print('i am staying in room number', room)"
   ]
  },
  {
   "cell_type": "code",
   "execution_count": 5,
   "metadata": {
    "collapsed": false
   },
   "outputs": [
    {
     "name": "stdout",
     "output_type": "stream",
     "text": [
      "dd8\n"
     ]
    }
   ],
   "source": [
    "v = input('')"
   ]
  },
  {
   "cell_type": "code",
   "execution_count": 7,
   "metadata": {
    "collapsed": false
   },
   "outputs": [
    {
     "name": "stdout",
     "output_type": "stream",
     "text": [
      "Enter your first name: Xiao\n",
      "Enter your last name: Wang\n",
      "Hello Xiao Wang\n"
     ]
    }
   ],
   "source": [
    "first_name = input('Enter your first name: ')\n",
    "last_name = input('Enter your last name: ')\n",
    "print ('Hello', first_name, last_name)"
   ]
  },
  {
   "cell_type": "code",
   "execution_count": 11,
   "metadata": {
    "collapsed": false
   },
   "outputs": [
    {
     "name": "stdout",
     "output_type": "stream",
     "text": [
      "How many hours did you work? 4\n",
      "4.0\n"
     ]
    }
   ],
   "source": [
    "string_value = input('How many hours did you work? ')\n",
    "hours = float(string_value)\n",
    "print(hours)"
   ]
  },
  {
   "cell_type": "code",
   "execution_count": 21,
   "metadata": {
    "collapsed": false,
    "scrolled": true
   },
   "outputs": [
    {
     "data": {
      "text/plain": [
       "0.6666666666666666"
      ]
     },
     "execution_count": 21,
     "metadata": {},
     "output_type": "execute_result"
    }
   ],
   "source": [
    "2/3"
   ]
  },
  {
   "cell_type": "code",
   "execution_count": 23,
   "metadata": {
    "collapsed": false
   },
   "outputs": [
    {
     "name": "stdout",
     "output_type": "stream",
     "text": [
      "Enter the item's original price: 88\n",
      "The sale price is 70.4\n"
     ]
    }
   ],
   "source": [
    "original_price = float(input(\"Enter the item's original price: \"))\n",
    "discount = original_price*0.2\n",
    "sale_price = original_price - discount\n",
    "print(\"The sale price is\", sale_price)"
   ]
  },
  {
   "cell_type": "code",
   "execution_count": 24,
   "metadata": {
    "collapsed": false
   },
   "outputs": [
    {
     "name": "stdout",
     "output_type": "stream",
     "text": [
      "mon\tue\n"
     ]
    }
   ],
   "source": [
    "print(\"mon\\tue\")"
   ]
  },
  {
   "cell_type": "code",
   "execution_count": 25,
   "metadata": {
    "collapsed": false,
    "scrolled": true
   },
   "outputs": [
    {
     "name": "stdout",
     "output_type": "stream",
     "text": [
      "The monthly payment is 416.67\n"
     ]
    }
   ],
   "source": [
    "amount_due = 5000.0\n",
    "monthly_payment = amount_due/12\n",
    "print(\"The monthly payment is\", \\\n",
    "     format(monthly_payment, '.2f'))"
   ]
  },
  {
   "cell_type": "code",
   "execution_count": null,
   "metadata": {
    "collapsed": true
   },
   "outputs": [],
   "source": [
    "height = input(\"Enter your height: \")\n",
    "color = input(\"Enter your favorite color: \")"
   ]
  },
  {
   "cell_type": "code",
   "execution_count": 30,
   "metadata": {
    "collapsed": false
   },
   "outputs": [
    {
     "name": "stdout",
     "output_type": "stream",
     "text": [
      "What is your name?xiao\n",
      "What is your address, city and ZIP?4457,Buffalo,14228\n",
      "What is your phone number?716\n",
      "What is your major?Math\n",
      "xiao\n",
      "4457,Buffalo,14228\n",
      "716\n",
      "Math\n"
     ]
    }
   ],
   "source": [
    "name = input(\"What is your name?\")\n",
    "address = input(\"What is your address, city and ZIP?\")\n",
    "tel = input(\"What is your phone number?\")\n",
    "major = input(\"What is your major?\")\n",
    "print(name)\n",
    "print(address)\n",
    "print(tel)\n",
    "print(major)"
   ]
  },
  {
   "cell_type": "code",
   "execution_count": 31,
   "metadata": {
    "collapsed": false
   },
   "outputs": [
    {
     "name": "stdout",
     "output_type": "stream",
     "text": [
      "Enter the total sales: 40000\n",
      "9200.0\n"
     ]
    }
   ],
   "source": [
    "total_sales = float(input(\"Enter the total sales: \"))\n",
    "profit = 0.23*total_sales\n",
    "print(profit)"
   ]
  },
  {
   "cell_type": "code",
   "execution_count": 33,
   "metadata": {
    "collapsed": false
   },
   "outputs": [
    {
     "name": "stdout",
     "output_type": "stream",
     "text": [
      "Enter the square feet of land: 8730499\n",
      "The area of land is  200.42467860422406 acre\n"
     ]
    }
   ],
   "source": [
    "square_feet = float(input(\"Enter the square feet of land: \"))\n",
    "acre = square_feet/43560\n",
    "print(\"The area of land is \" , acre ,\"acre\")"
   ]
  },
  {
   "cell_type": "code",
   "execution_count": 34,
   "metadata": {
    "collapsed": false
   },
   "outputs": [
    {
     "name": "stdout",
     "output_type": "stream",
     "text": [
      "Enter the price of the first item: 56\n",
      "Enter the price of the second item: 32\n",
      "Enter the price of the third item: 22\n",
      "Enter the price of the forth item: 12\n",
      "Enter the price of the fifth item: 45\n",
      "Subtotal:  167.0\n",
      "Tax:  10.02\n",
      "Total:  177.02\n"
     ]
    }
   ],
   "source": [
    "p1 = float(input(\"Enter the price of the first item: \"))\n",
    "p2 = float(input(\"Enter the price of the second item: \"))\n",
    "p3 = float(input(\"Enter the price of the third item: \"))\n",
    "p4 = float(input(\"Enter the price of the forth item: \"))\n",
    "p5 = float(input(\"Enter the price of the fifth item: \"))\n",
    "subtotal = p1 + p2 + p3 + p4 + p5\n",
    "tax = subtotal*0.06\n",
    "total = subtotal + tax\n",
    "print(\"Subtotal: \", subtotal)\n",
    "print(\"Tax: \", tax)\n",
    "print(\"Total: \", total)"
   ]
  },
  {
   "cell_type": "code",
   "execution_count": 35,
   "metadata": {
    "collapsed": false
   },
   "outputs": [
    {
     "name": "stdout",
     "output_type": "stream",
     "text": [
      "Enter the amount of purchase: 563\n",
      "Total amount is:  563.0\n",
      "country tax is:  11.26\n",
      "state tax is:  22.52\n"
     ]
    }
   ],
   "source": [
    "amount = float(input(\"Enter the amount of purchase: \"))\n",
    "country_tax = 0.02*amount\n",
    "state_tax = 0.04*amount\n",
    "print(\"Total amount is: \", amount)\n",
    "print(\"country tax is: \", country_tax)\n",
    "print(\"state tax is: \", state_tax)"
   ]
  },
  {
   "cell_type": "code",
   "execution_count": 36,
   "metadata": {
    "collapsed": false
   },
   "outputs": [
    {
     "name": "stdout",
     "output_type": "stream",
     "text": [
      "Enter the miles you drive: 458\n",
      "Enter the gallons of gas used: 21\n",
      "MPG= 21.80952380952381\n"
     ]
    }
   ],
   "source": [
    "miles_driven = float(input(\"Enter the miles you drive: \"))\n",
    "gallons = float(input(\"Enter the gallons of gas used: \"))\n",
    "MPG = miles_driven/gallons\n",
    "print(\"MPG=\",MPG)"
   ]
  },
  {
   "cell_type": "code",
   "execution_count": 37,
   "metadata": {
    "collapsed": false
   },
   "outputs": [
    {
     "name": "stdout",
     "output_type": "stream",
     "text": [
      "Enter the total price of the meal: 144\n",
      "Total amount:  144.0\n",
      "Tip:  21.599999999999998\n",
      "Tax:  10.080000000000002\n"
     ]
    }
   ],
   "source": [
    "amount = float(input(\"Enter the total price of the meal: \"))\n",
    "tip = 0.15*amount\n",
    "tax = 0.07*amount\n",
    "print(\"Total amount: \", amount)\n",
    "print(\"Tip: \", tip)\n",
    "print(\"Tax: \", tax)"
   ]
  },
  {
   "cell_type": "code",
   "execution_count": 38,
   "metadata": {
    "collapsed": false
   },
   "outputs": [
    {
     "name": "stdout",
     "output_type": "stream",
     "text": [
      "Enter the shares Joe bought: 1000\n",
      "Enter the buy in price of each share: 32.87\n",
      "Enter the share Joe sold: 1000\n",
      "Enter the sell price of each share: 33.92\n",
      "The amount of money Joe paid for the stock is:  33527.4\n",
      "The amount of commission Joe paid his broker:  657.4\n",
      "The amount that Joe sold the stock for:  34598.4\n",
      "The amount of commission Joe paid when selling:  678.4\n",
      "Profit:  1071.0\n"
     ]
    }
   ],
   "source": [
    "share_bought = int(input(\"Enter the shares Joe bought: \"))\n",
    "buy_price = float(input(\"Enter the buy in price of each share: \"))\n",
    "fee1 = 0.02*buy_price*share_bought\n",
    "share_sold = int(input(\"Enter the share Joe sold: \"))\n",
    "sell_price = float(input(\"Enter the sell price of each share: \"))\n",
    "fee2 = 0.02*sell_price*share_sold\n",
    "money_paid = buy_price*share_bought + fee1\n",
    "money_got = sell_price*share_sold + fee2\n",
    "profit = money_got - money_paid\n",
    "print(\"The amount of money Joe paid for the stock is: \", money_paid)\n",
    "print(\"The amount of commission Joe paid his broker: \", fee1)\n",
    "print(\"The amount that Joe sold the stock for: \", money_got)\n",
    "print(\"The amount of commission Joe paid when selling: \", fee2)\n",
    "print(\"Profit: \", profit)"
   ]
  },
  {
   "cell_type": "code",
   "execution_count": 48,
   "metadata": {
    "collapsed": false
   },
   "outputs": [],
   "source": [
    "def message():\n",
    "    print(\"I am Arthur,\")\n",
    "    print(\"King of the Britons.\")"
   ]
  },
  {
   "cell_type": "code",
   "execution_count": 49,
   "metadata": {
    "collapsed": false,
    "scrolled": true
   },
   "outputs": [
    {
     "name": "stdout",
     "output_type": "stream",
     "text": [
      "I am Arthur,\n",
      "King of the Britons.\n"
     ]
    }
   ],
   "source": [
    "message()"
   ]
  },
  {
   "cell_type": "code",
   "execution_count": 52,
   "metadata": {
    "collapsed": false
   },
   "outputs": [
    {
     "name": "stdout",
     "output_type": "stream",
     "text": [
      "10\n"
     ]
    }
   ],
   "source": [
    "def show_double(number):\n",
    "    result = number*2\n",
    "    print(result)\n",
    "def main():\n",
    "    value = 5\n",
    "    show_double(value)\n",
    "main()"
   ]
  },
  {
   "cell_type": "code",
   "execution_count": 53,
   "metadata": {
    "collapsed": false
   },
   "outputs": [
    {
     "name": "stdout",
     "output_type": "stream",
     "text": [
      "Enter the gross pay: 876\n",
      "Enter the amount of bonuses: 321\n",
      "Contribution for gross pay: $43.80\n",
      "Contribution for gross pay: $16.05\n"
     ]
    }
   ],
   "source": [
    "CONTRIBUTION_RATE = 0.05\n",
    "\n",
    "def main():\n",
    "    gross_pay = float(input(\"Enter the gross pay: \"))\n",
    "    bonus = float(input(\"Enter the amount of bonuses: \"))\n",
    "    show_pay_contrib(gross_pay)\n",
    "    show_bonus_contrib(bonus)\n",
    "    \n",
    "def show_pay_contrib(gross):\n",
    "    contrib = gross*CONTRIBUTION_RATE\n",
    "    print(\"Contribution for gross pay: $\", \\\n",
    "          format(contrib,\",.2f\"), \\\n",
    "         sep='')\n",
    "\n",
    "\n",
    "def show_bonus_contrib(bonus):\n",
    "    contrib = bonus*CONTRIBUTION_RATE\n",
    "    print(\"Contribution for gross pay: $\", \\\n",
    "         format(contrib, \",.2f\"),\\\n",
    "         sep='')\n",
    "\n",
    "    \n",
    "main()"
   ]
  },
  {
   "cell_type": "code",
   "execution_count": 55,
   "metadata": {
    "collapsed": false
   },
   "outputs": [
    {
     "name": "stdout",
     "output_type": "stream",
     "text": [
      "Enter a distance in Kilometer: 88\n",
      "54.6832\n"
     ]
    }
   ],
   "source": [
    "def Miles(kilometer):\n",
    "    miles = kilometer*0.6214\n",
    "    print(miles)\n",
    "def main():\n",
    "    kilometer = float(input(\"Enter a distance in Kilometer: \"))\n",
    "    Miles(kilometer)\n",
    "main()"
   ]
  },
  {
   "cell_type": "code",
   "execution_count": null,
   "metadata": {
    "collapsed": false
   },
   "outputs": [],
   "source": [
    "BASE_HOURS = 40\n",
    "OT_MULTIPLIER = 1.5\n",
    "\n",
    "def main():\n",
    "    hours_worked = float(input(\"Enter the number of hours worked: \"))\n",
    "    pay_rate = float(input(\"Enter the hourly pay rate: \"))\n",
    "    if hours_worked > BASE_HOURS:\n",
    "        calc_pay_with_OT(hours_worked, pay_rate)\n",
    "    else:\n",
    "        calc_regular_pay(hours_worked, pay_rate)\n",
    "\n",
    "def calc_pay_with_OT(hours, rate):\n",
    "    overtime_hours = hours - BASE_HOURS\n",
    "    overtime_pay = overtime_hours*rate * OT_MULTIPIER\n",
    "    gross_pay = BASE_HOURS * rate + overtime_pay\n",
    "    print(\"The gross pay is $\", format(gross_pay, \",.2f\"), sep=\"\")\n",
    "def calc_regular_pay(hours, rate):\n",
    "    gross_pay = hours * rate\n",
    "    print(\"The gross pay is $\", format(gross_pay, \",.2f\"), sep=\"\")\n",
    "main()"
   ]
  },
  {
   "cell_type": "code",
   "execution_count": null,
   "metadata": {
    "collapsed": false
   },
   "outputs": [],
   "source": [
    "\n",
    "    keep_going = \"y\"\n",
    "    while keep_going == \"y\":\n",
    "        sales = float(input(\"Enter the amount of sales: \"))\n",
    "        comm_rate = float(input(\"Enter the commission rate: \"))\n",
    "        commission = sales * comm_rate\n",
    "        print(\"The commission is $\", \\\n",
    "          format(commission, \",.2f\"), sep=\"\")\n",
    "        keep_going = input(\"Do you want to calculate another\"+\\\n",
    "                       \"commission (Enter y for yes):\")\n"
   ]
  },
  {
   "cell_type": "code",
   "execution_count": 2,
   "metadata": {
    "collapsed": false
   },
   "outputs": [
    {
     "name": "stdout",
     "output_type": "stream",
     "text": [
      "Enter the substance's Celsius temperature: 105\n",
      "The temperature is too high.\n",
      "Turn the thermostat down and wait\n",
      "5 minutes. Then take the temperature\n",
      "again and enter it.\n",
      "Enter the new Celsius temperature: 109\n",
      "The temperature is too high.\n",
      "Turn the thermostat down and wait\n",
      "5 minutes. Then take the temperature\n",
      "again and enter it.\n",
      "Enter the new Celsius temperature: 100\n",
      "The temperature is acceptable.\n",
      "Check it again in 15 minutes.\n"
     ]
    }
   ],
   "source": [
    "MAX_TEMP = 102.5\n",
    "def main():\n",
    "    temperature = float(input(\"Enter the substance's Celsius temperature: \"))\n",
    "    while temperature > MAX_TEMP:\n",
    "        print(\"The temperature is too high.\")\n",
    "        print(\"Turn the thermostat down and wait\")\n",
    "        print(\"5 minutes. Then take the temperature\")\n",
    "        print(\"again and enter it.\")\n",
    "        temperature = float(input(\"Enter the new Celsius temperature: \"))\n",
    "        \n",
    "    print(\"The temperature is acceptable.\")\n",
    "    print(\"Check it again in 15 minutes.\")\n",
    "main()"
   ]
  },
  {
   "cell_type": "code",
   "execution_count": 3,
   "metadata": {
    "collapsed": false
   },
   "outputs": [
    {
     "name": "stdout",
     "output_type": "stream",
     "text": [
      "I will display the numbers 1 through 5.\n",
      "1\n",
      "2\n",
      "3\n",
      "4\n",
      "5\n"
     ]
    }
   ],
   "source": [
    "def main():\n",
    "    print(\"I will display the numbers 1 through 5.\")\n",
    "    for num in [1, 2, 3, 4, 5]:\n",
    "        print(num)\n",
    "main()"
   ]
  },
  {
   "cell_type": "code",
   "execution_count": 4,
   "metadata": {
    "collapsed": false
   },
   "outputs": [
    {
     "name": "stdout",
     "output_type": "stream",
     "text": [
      "winken\n",
      "blinken\n",
      "bod\n"
     ]
    }
   ],
   "source": [
    "def main():\n",
    "    for name in [\"winken\", \"blinken\", \"bod\"]:\n",
    "        print(name)\n",
    "main()"
   ]
  },
  {
   "cell_type": "code",
   "execution_count": 5,
   "metadata": {
    "collapsed": false
   },
   "outputs": [
    {
     "name": "stdout",
     "output_type": "stream",
     "text": [
      "Number\t Square\n",
      "---------------\n",
      "1 \t 1\n",
      "2 \t 4\n",
      "3 \t 9\n",
      "4 \t 16\n",
      "5 \t 25\n",
      "6 \t 36\n",
      "7 \t 49\n",
      "8 \t 64\n",
      "9 \t 81\n",
      "10 \t 100\n"
     ]
    }
   ],
   "source": [
    "def main():\n",
    "    print(\"Number\\t Square\")\n",
    "    print(\"---------------\")\n",
    "    \n",
    "    for num in range(1,11):\n",
    "        square = num**2\n",
    "        print(num, \"\\t\", square)\n",
    "main()"
   ]
  },
  {
   "cell_type": "code",
   "execution_count": 7,
   "metadata": {
    "collapsed": false
   },
   "outputs": [
    {
     "name": "stdout",
     "output_type": "stream",
     "text": [
      "This program displays a list of numbers\n",
      "and their squares.\n",
      "Enter the starting number: 2\n",
      "How high should I go? 7\n",
      "\n",
      "Number \tSquare\n",
      "----------------\n",
      "2 \t 4\n",
      "3 \t 9\n",
      "4 \t 16\n",
      "5 \t 25\n",
      "6 \t 36\n",
      "7 \t 49\n"
     ]
    }
   ],
   "source": [
    "def main():\n",
    "    print(\"This program displays a list of numbers\")\n",
    "    print(\"and their squares.\")\n",
    "    start = int(input(\"Enter the starting number: \"))\n",
    "    end = int(input(\"How high should I go? \"))\n",
    "    print()\n",
    "    print(\"Number \\tSquare\")\n",
    "    print(\"----------------\")\n",
    "    for number in range(start, end + 1):\n",
    "        square = number**2\n",
    "        print(number, \"\\t\", square)\n",
    "main()"
   ]
  },
  {
   "cell_type": "code",
   "execution_count": null,
   "metadata": {
    "collapsed": false
   },
   "outputs": [
    {
     "name": "stdout",
     "output_type": "stream",
     "text": [
      "How many students do you have? 1\n",
      "How many test scores per student? 1\n",
      "Student number 1\n",
      "----------------\n",
      ": 54\n",
      "The average for student number 1 is: 54.0\n",
      "\n"
     ]
    }
   ],
   "source": [
    "num_students = int(input(\"How many students do you have? \"))\n",
    "num_test_scores = int(input(\"How many test scores per student? \"))\n",
    "for student in range(num_students):\n",
    "    total = 0.0\n",
    "    print(\"Student number\", student + 1)\n",
    "    print(\"----------------\")\n",
    "    for test_num in range(num_test_scores):\n",
    "        score = float(input(\": \"))\n",
    "        total = total + score\n",
    "    average = total / num_test_scores\n",
    "    print(\"The average for student number\", student + 1, \\\n",
    "         \"is:\", average)\n",
    "    print()"
   ]
  },
  {
   "cell_type": "code",
   "execution_count": 5,
   "metadata": {
    "collapsed": false
   },
   "outputs": [
    {
     "name": "stdout",
     "output_type": "stream",
     "text": [
      "How many rows? 4\n",
      "How many columns? 4\n",
      "****\n",
      "****\n",
      "****\n",
      "****\n"
     ]
    }
   ],
   "source": [
    "rows = int(input(\"How many rows? \"))\n",
    "cols = int(input(\"How many columns? \"))\n",
    "\n",
    "for r in range(rows):\n",
    "    for c in range(cols):\n",
    "        print(\"*\", end = \"\")\n",
    "    print()"
   ]
  },
  {
   "cell_type": "code",
   "execution_count": 7,
   "metadata": {
    "collapsed": false
   },
   "outputs": [
    {
     "name": "stdout",
     "output_type": "stream",
     "text": [
      "How many rows? 5\n",
      "*\n",
      "**\n",
      "***\n",
      "****\n",
      "*****\n"
     ]
    }
   ],
   "source": [
    "rows = int(input(\"How many rows? \"))\n",
    "\n",
    "\n",
    "for r in range(rows):\n",
    "    for c in range(r + 1):\n",
    "        print(\"*\", end = \"\")\n",
    "    print()"
   ]
  },
  {
   "cell_type": "code",
   "execution_count": 112,
   "metadata": {
    "collapsed": false
   },
   "outputs": [
    {
     "name": "stdout",
     "output_type": "stream",
     "text": [
      "19 \t13 \t32 \t87 \t97 \t"
     ]
    }
   ],
   "source": [
    "import random\n",
    "\n",
    "def main():\n",
    "    for count in range(5):\n",
    "        number = random.randint(1, 100)\n",
    "        print(number, \"\\t\", end = \"\")\n",
    "main()"
   ]
  },
  {
   "cell_type": "code",
   "execution_count": null,
   "metadata": {
    "collapsed": false
   },
   "outputs": [],
   "source": [
    "import random\n",
    "\n",
    "MIN = 1\n",
    "MAX = 6\n",
    "\n",
    "def main():\n",
    "    again = \"y\"\n",
    "    \n",
    "    while again == \"y\" or again == \"Y\":\n",
    "        print(\"Rolling the dice...\")\n",
    "        print(\"Their values are: \")\n",
    "        print(random.randint(MIN, MAX))\n",
    "        print(random.randint(MIN, MAX))\n",
    "        \n",
    "        again = input(\"Roll them again? (y = yes): \")\n",
    "        break\n",
    "main()"
   ]
  },
  {
   "cell_type": "code",
   "execution_count": 3,
   "metadata": {
    "collapsed": false
   },
   "outputs": [
    {
     "name": "stdout",
     "output_type": "stream",
     "text": [
      "Tails\n",
      "Tails\n",
      "Tails\n",
      "Heads\n",
      "Tails\n",
      "Heads\n",
      "Tails\n",
      "Tails\n",
      "Tails\n",
      "Tails\n"
     ]
    }
   ],
   "source": [
    "import random\n",
    "\n",
    "HEADS = 1\n",
    "TAILS = 2\n",
    "TOSSES = 10\n",
    "\n",
    "def main():\n",
    "    for toss in range(TOSSES):\n",
    "        if random.randint(HEADS, TAILS) == HEADS:\n",
    "            print(\"Heads\")\n",
    "        else:\n",
    "            print(\"Tails\")\n",
    "main()"
   ]
  },
  {
   "cell_type": "code",
   "execution_count": 9,
   "metadata": {
    "collapsed": false
   },
   "outputs": [
    {
     "name": "stdout",
     "output_type": "stream",
     "text": [
      "9.527113333181765\n"
     ]
    }
   ],
   "source": [
    "n = random.uniform(1.0, 10.0)\n",
    "print(n)"
   ]
  },
  {
   "cell_type": "code",
   "execution_count": 12,
   "metadata": {
    "collapsed": false
   },
   "outputs": [
    {
     "name": "stdout",
     "output_type": "stream",
     "text": [
      "2.718281828459045\n",
      "3.141592653589793\n"
     ]
    }
   ],
   "source": [
    "import math\n",
    "print(math.e)\n",
    "print(math.pi)"
   ]
  },
  {
   "cell_type": "code",
   "execution_count": 13,
   "metadata": {
    "collapsed": false
   },
   "outputs": [
    {
     "name": "stdout",
     "output_type": "stream",
     "text": [
      "Enter the number of feet: 34\n",
      "408.0\n"
     ]
    }
   ],
   "source": [
    "def feet_to_inches(feet):\n",
    "    inches = feet * 12\n",
    "    return inches\n",
    "def main():\n",
    "    feet = float(input(\"Enter the number of feet: \"))\n",
    "    Inches = feet_to_inches(feet)\n",
    "    print(Inches)\n",
    "main()"
   ]
  },
  {
   "cell_type": "code",
   "execution_count": 15,
   "metadata": {
    "collapsed": false
   },
   "outputs": [
    {
     "name": "stdout",
     "output_type": "stream",
     "text": [
      "585\n",
      "+ 151\n",
      "------\n",
      "The sum is: 736\n",
      "Congratulations!\n"
     ]
    }
   ],
   "source": [
    "import random\n",
    "\n",
    "num1 = random.randrange(0,1000)\n",
    "num2 = random.randrange(0,1000)\n",
    "print(num1)\n",
    "print(\"+\",num2)\n",
    "print(\"------\")\n",
    "Sum = int(input(\"The sum is: \"))\n",
    "if Sum == num1 + num2:\n",
    "    print(\"Congratulations!\")\n",
    "else:\n",
    "    print(\"YOU SUCK!\")"
   ]
  },
  {
   "cell_type": "code",
   "execution_count": 18,
   "metadata": {
    "collapsed": false
   },
   "outputs": [
    {
     "name": "stdout",
     "output_type": "stream",
     "text": [
      "4.9\n",
      "19.6\n",
      "44.1\n",
      "78.4\n",
      "122.50000000000001\n",
      "176.4\n",
      "240.10000000000002\n",
      "313.6\n",
      "396.90000000000003\n",
      "490.00000000000006\n"
     ]
    }
   ],
   "source": [
    "def falling_distance(time):\n",
    "    d = (1/2)*9.8*time**2\n",
    "    return d\n",
    "def main():\n",
    "    \n",
    "    for time in range(1, 11):\n",
    "        d = falling_distance(time)\n",
    "        print(d)\n",
    "main()"
   ]
  },
  {
   "cell_type": "code",
   "execution_count": 30,
   "metadata": {
    "collapsed": false,
    "scrolled": true
   },
   "outputs": [],
   "source": [
    "def main():\n",
    "    outfile = open(\"philosophers.txt\",\"w\")\n",
    "    outfile.write(\"Jhon Locke\\n\")\n",
    "    outfile.write(\"David Hume\\n\")\n",
    "    outfile.write(\"Edmund Burke\\n\")\n",
    "    outfile.close()\n",
    "main()"
   ]
  },
  {
   "cell_type": "code",
   "execution_count": 33,
   "metadata": {
    "collapsed": false
   },
   "outputs": [
    {
     "name": "stdout",
     "output_type": "stream",
     "text": [
      "Enter the sales for each day.\n",
      "Day #1;88\n",
      "Day #2;99\n",
      "Day #3;987\n",
      "Day #4;43\n",
      "Day #5;333\n",
      "Here are the values you entered: \n",
      "88.0\n",
      "99.0\n",
      "987.0\n",
      "43.0\n",
      "333.0\n"
     ]
    }
   ],
   "source": [
    "NUM_DAYS = 5\n",
    "\n",
    "def main():\n",
    "    sales = [0]*NUM_DAYS\n",
    "    index = 0\n",
    "    print(\"Enter the sales for each day.\")\n",
    "    \n",
    "    while index < NUM_DAYS:\n",
    "        print(\"Day #\", index + 1, \";\", sep=\"\", end=\"\")\n",
    "        sales[index] = float(input())\n",
    "        index += 1\n",
    "    print(\"Here are the values you entered: \")\n",
    "    for value in sales:\n",
    "        print(value)\n",
    "main()"
   ]
  },
  {
   "cell_type": "code",
   "execution_count": 34,
   "metadata": {
    "collapsed": false
   },
   "outputs": [
    {
     "name": "stdout",
     "output_type": "stream",
     "text": [
      "[1, 2, 3, 'jack', 'jj']\n"
     ]
    }
   ],
   "source": [
    "list1 = [1,2,3]\n",
    "list2 = ['jack','jj']\n",
    "print(list1 + list2)"
   ]
  },
  {
   "cell_type": "code",
   "execution_count": 38,
   "metadata": {
    "collapsed": false
   },
   "outputs": [
    {
     "name": "stdout",
     "output_type": "stream",
     "text": [
      "Enter a product number: ww\n",
      "ww was not in the list\n"
     ]
    }
   ],
   "source": [
    "def main():\n",
    "    prod_nums = ['V457', 'F987', 'R688']\n",
    "    search = input('Enter a product number: ')\n",
    "    if search not in prod_nums:\n",
    "        print(search, \"was not in the list\")\n",
    "    else:\n",
    "        print(\"gg\")\n",
    "main()"
   ]
  },
  {
   "cell_type": "code",
   "execution_count": 41,
   "metadata": {
    "collapsed": false
   },
   "outputs": [
    {
     "name": "stdout",
     "output_type": "stream",
     "text": [
      "Enter a name: Yasuo\n",
      "Do you want to add another name?\n",
      "y = yes, anything else = no: y\n",
      "\n",
      "Enter a name: Cassiopiea\n",
      "Do you want to add another name?\n",
      "y = yes, anything else = no: y\n",
      "\n",
      "Enter a name: Zed\n",
      "Do you want to add another name?\n",
      "y = yes, anything else = no: Garen\n",
      "\n",
      "Here are the names you entered.\n",
      "Yasuo\n",
      "Cassiopiea\n",
      "Zed\n"
     ]
    }
   ],
   "source": [
    "def main():\n",
    "    name_list = []\n",
    "    again = 'y'\n",
    "    while again == 'y':\n",
    "        name = input(\"Enter a name: \")\n",
    "        name_list.append(name)\n",
    "        print(\"Do you want to add another name?\")\n",
    "        again = input(\"y = yes, anything else = no: \")\n",
    "        print()\n",
    "    print(\"Here are the names you entered.\")\n",
    "        \n",
    "    for name in name_list:\n",
    "        print(name)\n",
    "main()"
   ]
  },
  {
   "cell_type": "code",
   "execution_count": 43,
   "metadata": {
    "collapsed": false
   },
   "outputs": [
    {
     "name": "stdout",
     "output_type": "stream",
     "text": [
      "Here are the items in the food list: \n",
      "['Pizza', 'Burgers', 'Chips']\n",
      "Which item should I change? chicken\n",
      "That item is not found in the list\n"
     ]
    }
   ],
   "source": [
    "def main():\n",
    "    food = ['Pizza', 'Burgers', 'Chips']\n",
    "    \n",
    "    print('Here are the items in the food list: ')\n",
    "    print(food)\n",
    "    item = input(\"Which item should I change? \")\n",
    "    \n",
    "    try: \n",
    "        item_index = food.index(item)\n",
    "        new_item = input(\"Enter the new value: \")\n",
    "        food[item_index] = new_item\n",
    "        print(\"Here is the revised list:\")\n",
    "        print(food)\n",
    "    except ValueError:\n",
    "        print(\"That item is not found in the list\")\n",
    "main()"
   ]
  },
  {
   "cell_type": "code",
   "execution_count": 44,
   "metadata": {
    "collapsed": false
   },
   "outputs": [
    {
     "name": "stdout",
     "output_type": "stream",
     "text": [
      "The list before the insert: \n",
      "['James', 'Kathryn', 'Bill']\n",
      "The list after the insert: \n",
      "['Joe', 'James', 'Kathryn', 'Bill']\n"
     ]
    }
   ],
   "source": [
    "def main():\n",
    "    names = ['James', 'Kathryn', 'Bill']\n",
    "    print(\"The list before the insert: \")\n",
    "    print(names)\n",
    "    \n",
    "    names.insert(0, 'Joe')\n",
    "    print(\"The list after the insert: \")\n",
    "    print(names)\n",
    "    \n",
    "main()"
   ]
  },
  {
   "cell_type": "code",
   "execution_count": 47,
   "metadata": {
    "collapsed": false
   },
   "outputs": [
    {
     "name": "stdout",
     "output_type": "stream",
     "text": [
      "Here are the items in the food list: \n",
      "['Pizza', 'Burger', ' chips']\n",
      "Which item should I remove? Pizza\n",
      "Here is the revised list: \n",
      "['Burger', ' chips']\n"
     ]
    }
   ],
   "source": [
    "def main():\n",
    "    food = [\"Pizza\", \"Burger\", \" chips\"]\n",
    "    print(\"Here are the items in the food list: \")\n",
    "    print(food)\n",
    "    \n",
    "    item = input('Which item should I remove? ')\n",
    "    \n",
    "    try:\n",
    "        food.remove(item)\n",
    "        print(\"Here is the revised list: \")\n",
    "        print(food)\n",
    "    except ValueError:\n",
    "        print(\"That item was not found in the list.\")\n",
    "main()"
   ]
  },
  {
   "cell_type": "code",
   "execution_count": 48,
   "metadata": {
    "collapsed": false
   },
   "outputs": [
    {
     "name": "stdout",
     "output_type": "stream",
     "text": [
      "-20\n"
     ]
    }
   ],
   "source": [
    "listn = [-1,2,33,-20]\n",
    "print(min(listn))"
   ]
  },
  {
   "cell_type": "code",
   "execution_count": 49,
   "metadata": {
    "collapsed": false
   },
   "outputs": [
    {
     "name": "stdout",
     "output_type": "stream",
     "text": [
      "Enter the hours worked by employee 1:10\n",
      "Enter the hours worked by employee 2:8\n",
      "Enter the hours worked by employee 3:3\n",
      "Enter the hours worked by employee 4:4\n",
      "Enter the hours worked by employee 5:6\n",
      "Enter the hours worked by employee 6:7\n",
      "Enter the hourly pay rate: 40\n",
      "Gross pay for employee 1: $400.00\n",
      "Gross pay for employee 2: $320.00\n",
      "Gross pay for employee 3: $120.00\n",
      "Gross pay for employee 4: $160.00\n",
      "Gross pay for employee 5: $240.00\n",
      "Gross pay for employee 6: $280.00\n"
     ]
    }
   ],
   "source": [
    "NUM_EMPLOYEES = 6\n",
    "\n",
    "def main():\n",
    "    hours = [0] * NUM_EMPLOYEES\n",
    "    \n",
    "    for index in range(NUM_EMPLOYEES):\n",
    "        print(\"Enter the hours worked by employee \",\\\n",
    "             index + 1, \":\", sep = \"\", end = \"\" )\n",
    "        hours[index] = float(input())\n",
    "        \n",
    "    pay_rate = float(input(\"Enter the hourly pay rate: \"))\n",
    "    for index in range(NUM_EMPLOYEES):\n",
    "        gross_pay = hours[index] * pay_rate\n",
    "        print(\"Gross pay for employee \", index + 1, \": $\", \\\n",
    "             format(gross_pay, \",.2f\"), sep = \"\")\n",
    "        \n",
    "main()"
   ]
  },
  {
   "cell_type": "code",
   "execution_count": 50,
   "metadata": {
    "collapsed": false
   },
   "outputs": [
    {
     "name": "stdout",
     "output_type": "stream",
     "text": [
      "The total of the elements is 30\n"
     ]
    }
   ],
   "source": [
    "def main():\n",
    "    numbers = [2, 4, 6, 8, 10]\n",
    "    total = 0\n",
    "    for value in numbers:\n",
    "        total += value\n",
    "        \n",
    "    print(\"The total of the elements is\", total)\n",
    "main()"
   ]
  },
  {
   "cell_type": "code",
   "execution_count": 54,
   "metadata": {
    "collapsed": false
   },
   "outputs": [
    {
     "name": "stdout",
     "output_type": "stream",
     "text": [
      "The average is 5.3\n"
     ]
    }
   ],
   "source": [
    "def main():\n",
    "    scores = [2.5, 8.3, 6.5, 4.0, 5.2]\n",
    "    total = 0.0\n",
    "    for value in scores:\n",
    "        total = total + value\n",
    "        \n",
    "    average = total/len(scores)\n",
    "    print(\"The average is\",average)\n",
    "main()"
   ]
  },
  {
   "cell_type": "code",
   "execution_count": 55,
   "metadata": {
    "collapsed": false
   },
   "outputs": [
    {
     "name": "stdout",
     "output_type": "stream",
     "text": [
      "The total is 30\n"
     ]
    }
   ],
   "source": [
    "def main():\n",
    "    numbers = [2, 4, 6, 8, 10]\n",
    "    print(\"The total is\", get_total(numbers))\n",
    "    \n",
    "def get_total(value_list):\n",
    "    total = 0\n",
    "    for num in value_list:\n",
    "        total += num\n",
    "    return total\n",
    "main()"
   ]
  },
  {
   "cell_type": "code",
   "execution_count": 56,
   "metadata": {
    "collapsed": false
   },
   "outputs": [
    {
     "name": "stdout",
     "output_type": "stream",
     "text": [
      "Enter a number: 10\n",
      "Do you want to add another number?\n",
      "y = yes, anything else = no: y\n",
      "\n",
      "Enter a number: 11\n",
      "Do you want to add another number?\n",
      "y = yes, anything else = no: y\n",
      "\n",
      "Enter a number: \n"
     ]
    },
    {
     "ename": "ValueError",
     "evalue": "invalid literal for int() with base 10: ''",
     "output_type": "error",
     "traceback": [
      "\u001b[0;31m---------------------------------------------------------------------------\u001b[0m",
      "\u001b[0;31mValueError\u001b[0m                                Traceback (most recent call last)",
      "\u001b[0;32m<ipython-input-56-ddc624714994>\u001b[0m in \u001b[0;36m<module>\u001b[0;34m()\u001b[0m\n\u001b[1;32m     17\u001b[0m     \u001b[0;32mreturn\u001b[0m \u001b[0mvalues\u001b[0m\u001b[0;34m\u001b[0m\u001b[0m\n\u001b[1;32m     18\u001b[0m \u001b[0;34m\u001b[0m\u001b[0m\n\u001b[0;32m---> 19\u001b[0;31m \u001b[0mmain\u001b[0m\u001b[0;34m(\u001b[0m\u001b[0;34m)\u001b[0m\u001b[0;34m\u001b[0m\u001b[0m\n\u001b[0m",
      "\u001b[0;32m<ipython-input-56-ddc624714994>\u001b[0m in \u001b[0;36mmain\u001b[0;34m()\u001b[0m\n\u001b[1;32m      1\u001b[0m \u001b[0;32mdef\u001b[0m \u001b[0mmain\u001b[0m\u001b[0;34m(\u001b[0m\u001b[0;34m)\u001b[0m\u001b[0;34m:\u001b[0m\u001b[0;34m\u001b[0m\u001b[0m\n\u001b[0;32m----> 2\u001b[0;31m     \u001b[0mnumbers\u001b[0m \u001b[0;34m=\u001b[0m \u001b[0mget_values\u001b[0m\u001b[0;34m(\u001b[0m\u001b[0;34m)\u001b[0m\u001b[0;34m\u001b[0m\u001b[0m\n\u001b[0m\u001b[1;32m      3\u001b[0m     \u001b[0mprint\u001b[0m\u001b[0;34m(\u001b[0m\u001b[0;34m\"The numbers in the list are: \"\u001b[0m\u001b[0;34m)\u001b[0m\u001b[0;34m\u001b[0m\u001b[0m\n\u001b[1;32m      4\u001b[0m     \u001b[0mprint\u001b[0m\u001b[0;34m(\u001b[0m\u001b[0mnumbers\u001b[0m\u001b[0;34m)\u001b[0m\u001b[0;34m\u001b[0m\u001b[0m\n\u001b[1;32m      5\u001b[0m \u001b[0;34m\u001b[0m\u001b[0m\n",
      "\u001b[0;32m<ipython-input-56-ddc624714994>\u001b[0m in \u001b[0;36mget_values\u001b[0;34m()\u001b[0m\n\u001b[1;32m      9\u001b[0m \u001b[0;34m\u001b[0m\u001b[0m\n\u001b[1;32m     10\u001b[0m     \u001b[0;32mwhile\u001b[0m \u001b[0magain\u001b[0m \u001b[0;34m==\u001b[0m \u001b[0;34m\"y\"\u001b[0m\u001b[0;34m:\u001b[0m\u001b[0;34m\u001b[0m\u001b[0m\n\u001b[0;32m---> 11\u001b[0;31m         \u001b[0mnum\u001b[0m \u001b[0;34m=\u001b[0m \u001b[0mint\u001b[0m\u001b[0;34m(\u001b[0m\u001b[0minput\u001b[0m\u001b[0;34m(\u001b[0m\u001b[0;34m\"Enter a number: \"\u001b[0m\u001b[0;34m)\u001b[0m\u001b[0;34m)\u001b[0m\u001b[0;34m\u001b[0m\u001b[0m\n\u001b[0m\u001b[1;32m     12\u001b[0m         \u001b[0mvalues\u001b[0m\u001b[0;34m.\u001b[0m\u001b[0mappend\u001b[0m\u001b[0;34m(\u001b[0m\u001b[0mnum\u001b[0m\u001b[0;34m)\u001b[0m\u001b[0;34m\u001b[0m\u001b[0m\n\u001b[1;32m     13\u001b[0m \u001b[0;34m\u001b[0m\u001b[0m\n",
      "\u001b[0;31mValueError\u001b[0m: invalid literal for int() with base 10: ''"
     ]
    }
   ],
   "source": [
    "def main():\n",
    "    numbers = get_values()\n",
    "    print(\"The numbers in the list are: \")\n",
    "    print(numbers)\n",
    "    \n",
    "def get_values():\n",
    "    values = []\n",
    "    again = \"y\"\n",
    "    \n",
    "    while again == \"y\":\n",
    "        num = int(input(\"Enter a number: \"))\n",
    "        values.append(num)\n",
    "        \n",
    "        print(\"Do you want to add another number?\")\n",
    "        again = input(\"y = yes, anything else = no: \")\n",
    "        print()\n",
    "    return values\n",
    "\n",
    "main()"
   ]
  },
  {
   "cell_type": "code",
   "execution_count": 58,
   "metadata": {
    "collapsed": false
   },
   "outputs": [
    {
     "name": "stdout",
     "output_type": "stream",
     "text": [
      "Enter a test score: 98\n",
      "Do you want to add another score?\n",
      "y = yes, anything else = no: y\n",
      "\n",
      "Enter a test score: 77\n",
      "Do you want to add another score?\n",
      "y = yes, anything else = no: y\n",
      "\n",
      "Enter a test score: 87\n",
      "Do you want to add another score?\n",
      "y = yes, anything else = no: n\n",
      "\n",
      "92.5\n"
     ]
    }
   ],
   "source": [
    "def main():\n",
    "    scores = get_scores()\n",
    "    total = get_total(scores)\n",
    "    lowest = min(scores)\n",
    "    total -= lowest\n",
    "    average = total/(len(scores)-1)\n",
    "    print(average)\n",
    "\n",
    "def get_scores():\n",
    "    test_scores = []\n",
    "    again = \"y\"\n",
    "    while again == \"y\":\n",
    "        value = float(input(\"Enter a test score: \"))\n",
    "        test_scores.append(value)\n",
    "        print(\"Do you want to add another score?\")\n",
    "        again = input(\"y = yes, anything else = no: \")\n",
    "        print()\n",
    "    return test_scores\n",
    "    \n",
    "main()"
   ]
  },
  {
   "cell_type": "code",
   "execution_count": 59,
   "metadata": {
    "collapsed": true
   },
   "outputs": [],
   "source": [
    "def main():\n",
    "    cities = [\"new york\", \"boston\", \"atlanta\", \"dallas\"]\n",
    "    outfile = open(\"cities.txt\", \"w\")\n",
    "    outfile.writelines(cities)\n",
    "    outfile.close()\n",
    "main()"
   ]
  },
  {
   "cell_type": "code",
   "execution_count": 60,
   "metadata": {
    "collapsed": true
   },
   "outputs": [],
   "source": [
    "def main():\n",
    "    cities = [\"new york\", \"boston\", \"atlanta\", \"dallas\"]\n",
    "    outfile = open(\"cities.txt\", \"w\")\n",
    "    for item in cities:\n",
    "        outfile.write(item + \"\\n\")\n",
    "    outfile.close()\n",
    "main()"
   ]
  },
  {
   "cell_type": "code",
   "execution_count": 61,
   "metadata": {
    "collapsed": false
   },
   "outputs": [
    {
     "name": "stdout",
     "output_type": "stream",
     "text": [
      "['new york', 'boston', 'atlanta', 'dallas']\n"
     ]
    }
   ],
   "source": [
    "def main():\n",
    "    infile = open(\"cities.txt\",\"r\")\n",
    "    cities = infile.readlines()\n",
    "    infile.close()\n",
    "    \n",
    "    index = 0\n",
    "    while index < len(cities):\n",
    "        cities[index] = cities[index].rstrip('\\n')\n",
    "        index += 1\n",
    "    print(cities)\n",
    "main()"
   ]
  },
  {
   "cell_type": "code",
   "execution_count": 63,
   "metadata": {
    "collapsed": false
   },
   "outputs": [],
   "source": [
    "def main():\n",
    "    numbers = [1,2,3,4,5,6,7]\n",
    "    outfile = open(\"numberlist.txt\", \"w\")\n",
    "    for item in numbers:\n",
    "        outfile.write(str(item)+ \"\\n\")\n",
    "    outfile.close()\n",
    "main()"
   ]
  },
  {
   "cell_type": "code",
   "execution_count": 64,
   "metadata": {
    "collapsed": false
   },
   "outputs": [
    {
     "name": "stdout",
     "output_type": "stream",
     "text": [
      "[1, 2, 3, 4, 5, 6, 7]\n"
     ]
    }
   ],
   "source": [
    "def main():\n",
    "    infile = open(\"numberlist.txt\", \"r\")\n",
    "    numbers = infile.readlines()\n",
    "    infile.close()\n",
    "    index = 0\n",
    "    while index < len(numbers):\n",
    "        numbers[index] = int(numbers[index])\n",
    "        index += 1\n",
    "    print(numbers)\n",
    "main()"
   ]
  },
  {
   "cell_type": "code",
   "execution_count": 65,
   "metadata": {
    "collapsed": false
   },
   "outputs": [
    {
     "name": "stdout",
     "output_type": "stream",
     "text": [
      "[[75, 97, 26, 63], [77, 20, 13, 39], [7, 28, 59, 65]]\n"
     ]
    }
   ],
   "source": [
    "import random\n",
    "\n",
    "ROWS = 3\n",
    "COLS = 4\n",
    "\n",
    "def main():\n",
    "    values = [[0, 0, 0, 0],\n",
    "             [0, 0, 0, 0],\n",
    "             [0, 0, 0, 0]]\n",
    "    for r in range(ROWS):\n",
    "        for c in range(COLS):\n",
    "            values[r][c] = random.randint(1, 100)\n",
    "    print(values)\n",
    "main()"
   ]
  },
  {
   "cell_type": "code",
   "execution_count": 2,
   "metadata": {
    "collapsed": false
   },
   "outputs": [
    {
     "name": "stdout",
     "output_type": "stream",
     "text": [
      "Enter:98\n",
      "Enter:99\n",
      "Enter:908\n",
      "Enter:987\n",
      "Enter:876\n",
      "Enter:789\n",
      "Enter:435\n",
      "4192.0\n"
     ]
    }
   ],
   "source": [
    "\n",
    "\n",
    "def main():\n",
    "    sales = [0]*7\n",
    "    total_sales = 0\n",
    "    for day in range(0,7):\n",
    "        \n",
    "        sales[day] = float(input(\"Enter:\"))\n",
    "        total_sales += sales[day]\n",
    "    print(total_sales)\n",
    "main()"
   ]
  },
  {
   "cell_type": "code",
   "execution_count": 5,
   "metadata": {
    "collapsed": false
   },
   "outputs": [
    {
     "name": "stdout",
     "output_type": "stream",
     "text": [
      "The lottery numbers are: \n",
      "2\n",
      "3\n",
      "0\n",
      "1\n",
      "3\n",
      "2\n",
      "4\n"
     ]
    }
   ],
   "source": [
    "import random\n",
    "def main():\n",
    "    lot = [0] * 7\n",
    "    for i in range(0, 7):\n",
    "        lot[i] = random.randint(0, 9)\n",
    "    print(\"The lottery numbers are: \")\n",
    "    for i in range(0, 7):\n",
    "        print(lot[i])\n",
    "main()"
   ]
  },
  {
   "cell_type": "code",
   "execution_count": 2,
   "metadata": {
    "collapsed": false
   },
   "outputs": [
    {
     "name": "stdout",
     "output_type": "stream",
     "text": [
      "Enter the rainfall in month  1 :\n",
      "Enter: 112\n",
      "Enter the rainfall in month  2 :\n",
      "Enter: 212\n",
      "Enter the rainfall in month  3 :\n",
      "Enter: 223\n",
      "Enter the rainfall in month  4 :\n",
      "Enter: 112\n",
      "Enter the rainfall in month  5 :\n",
      "Enter: 116\n",
      "Enter the rainfall in month  6 :\n",
      "Enter: 543\n",
      "Enter the rainfall in month  7 :\n",
      "Enter: 231\n",
      "Enter the rainfall in month  8 :\n",
      "Enter: 112\n",
      "Enter the rainfall in month  9 :\n",
      "Enter: 113\n",
      "Enter the rainfall in month  10 :\n",
      "Enter: 143\n",
      "Enter the rainfall in month  11 :\n",
      "Enter: 123\n",
      "Enter the rainfall in month  12 :\n",
      "Enter: 112\n",
      "Total:  2152.0\n",
      "Average:  179.33333333333334\n",
      "Highest:  543.0\n",
      "Lowest:  112.0\n"
     ]
    }
   ],
   "source": [
    "def main():\n",
    "    rainfall = [0] * 12\n",
    "    total  = 0\n",
    "    average = 0\n",
    "    for i in range(0, 12):\n",
    "        print(\"Enter the rainfall in month \", i+1, \":\")\n",
    "        rainfall[i] = float(input(\"Enter: \"))\n",
    "        total += rainfall[i]\n",
    "    average = total/12\n",
    "    high = max(rainfall)\n",
    "    low = min(rainfall)\n",
    "    print(\"Total: \", total)\n",
    "    print(\"Average: \", average)\n",
    "    print(\"Highest: \", high)\n",
    "    print(\"Lowest: \", low)\n",
    "main()"
   ]
  },
  {
   "cell_type": "code",
   "execution_count": 5,
   "metadata": {
    "collapsed": false
   },
   "outputs": [
    {
     "name": "stdout",
     "output_type": "stream",
     "text": [
      "M\n",
      "o\n",
      "m\n",
      "e\n",
      "n\n",
      "t\n"
     ]
    }
   ],
   "source": [
    "for ch in \"Moment\":\n",
    "    print(ch)"
   ]
  },
  {
   "cell_type": "code",
   "execution_count": 8,
   "metadata": {
    "collapsed": false
   },
   "outputs": [
    {
     "name": "stdout",
     "output_type": "stream",
     "text": [
      "Enter a sentence: the moment we win\n",
      "The letter T appears 2 times\n"
     ]
    }
   ],
   "source": [
    "def main():\n",
    "    count = 0\n",
    "    my_string = input(\"Enter a sentence: \")\n",
    "    for ch in my_string:\n",
    "        if ch == \"T\" or ch == \"t\":\n",
    "            count += 1\n",
    "    print(\"The letter T appears\", count, \"times\")\n",
    "main()"
   ]
  },
  {
   "cell_type": "code",
   "execution_count": 10,
   "metadata": {
    "collapsed": false
   },
   "outputs": [
    {
     "name": "stdout",
     "output_type": "stream",
     "text": [
      "a\n"
     ]
    }
   ],
   "source": [
    "my_string = \"Roses are red\"\n",
    "ch = my_string[6]\n",
    "print(ch)"
   ]
  },
  {
   "cell_type": "code",
   "execution_count": 15,
   "metadata": {
    "collapsed": false
   },
   "outputs": [
    {
     "name": "stdout",
     "output_type": "stream",
     "text": [
      "Not found\n",
      "dict_items([('Katie', '555-2222'), ('Chris', '555-1111')])\n",
      "dict_keys(['Katie', 'Chris'])\n"
     ]
    }
   ],
   "source": [
    "phonebook = {'Chris': '555-1111', 'Katie':'555-2222'}\n",
    "value = phonebook.get('andy',\"Not found\")\n",
    "print(value)\n",
    "print(phonebook.items())\n",
    "print(phonebook.keys())"
   ]
  },
  {
   "cell_type": "code",
   "execution_count": 20,
   "metadata": {
    "collapsed": false
   },
   "outputs": [
    {
     "name": "stdout",
     "output_type": "stream",
     "text": [
      "{1, 2, 3, 4, 5, 7, 'a', 'b', 'c'}\n",
      "set()\n"
     ]
    }
   ],
   "source": [
    "myset = set([1,2,3,4,5])\n",
    "myset.add(7)\n",
    "myset.update('abc')\n",
    "print(myset)\n",
    "myset.clear()\n",
    "print(myset)"
   ]
  },
  {
   "cell_type": "code",
   "execution_count": 27,
   "metadata": {
    "collapsed": false
   },
   "outputs": [
    {
     "name": "stdout",
     "output_type": "stream",
     "text": [
      "{1, 2, 3, 4, 5, 6}\n",
      "{3, 4}\n",
      "{1, 2}\n",
      "{1, 2, 5, 6}\n",
      "False\n",
      "{'www', 'yyy'}\n"
     ]
    }
   ],
   "source": [
    "set1 = set([1,2,3,4])\n",
    "set2 = set([3,4,5,6])\n",
    "set3 = set1 | set2\n",
    "set4 = set1 & set2\n",
    "set5 = set1 - set2\n",
    "set6 = set1 ^ set2\n",
    "print(set3)\n",
    "print(set4)\n",
    "print(set5)\n",
    "print(set6)\n",
    "print(set1 <= set2)\n",
    "myset = set(['www','yyy'])\n",
    "print(myset)"
   ]
  },
  {
   "cell_type": "code",
   "execution_count": 41,
   "metadata": {
    "collapsed": false,
    "scrolled": true
   },
   "outputs": [
    {
     "name": "stdout",
     "output_type": "stream",
     "text": [
      "This side is up:  Heads\n",
      "I am tossing the coin...\n",
      "This side is up:  Tails\n",
      "1\n"
     ]
    }
   ],
   "source": [
    "import random\n",
    "\n",
    "class Coin:\n",
    "    def __init__(self):\n",
    "        self.sideup = 'Heads'\n",
    "        self.v = 1\n",
    "        \n",
    "    def toss(self):\n",
    "        if random.randint(0, 1) == 0:\n",
    "            self.sideup = 'Heads'\n",
    "            self.v = 0\n",
    "        else:\n",
    "            self.sideup = 'Tails'\n",
    "    def get_sideup(self):\n",
    "        return self.sideup\n",
    "    def show(self):\n",
    "        print(self.v)\n",
    "\n",
    "def main():\n",
    "    my_coin = Coin()\n",
    "    \n",
    "    print(\"This side is up: \", my_coin.get_sideup())\n",
    "    print(\"I am tossing the coin...\")\n",
    "    my_coin.toss()\n",
    "    print(\"This side is up: \", my_coin.get_sideup())\n",
    "    my_coin.show()\n",
    "main()"
   ]
  },
  {
   "cell_type": "code",
   "execution_count": 43,
   "metadata": {
    "collapsed": false
   },
   "outputs": [
    {
     "name": "stdout",
     "output_type": "stream",
     "text": [
      "This side is up:  Heads\n",
      "I am going to toss the coin ten times: \n",
      "Heads\n",
      "Tails\n",
      "Heads\n",
      "Tails\n",
      "Heads\n",
      "Heads\n",
      "Heads\n",
      "Heads\n",
      "Heads\n",
      "Tails\n"
     ]
    }
   ],
   "source": [
    "class Coin:\n",
    "    def __init__(self):\n",
    "        self.__sideup = \"Heads\"\n",
    "    def toss(self):\n",
    "        if random.randint(0,1) == 0:\n",
    "            self.__sideup = \"Heads\"\n",
    "        else: \n",
    "            self.__sideup = \"Tails\"\n",
    "    def get_sideup(self):\n",
    "        return self.__sideup\n",
    "    \n",
    "def main():\n",
    "    my_coin = Coin()\n",
    "    \n",
    "    print(\"This side is up: \", my_coin.get_sideup())\n",
    "    print(\"I am going to toss the coin ten times: \")\n",
    "    for count in range(10):\n",
    "        my_coin.toss()\n",
    "        print(my_coin.get_sideup())\n",
    "        \n",
    "main()"
   ]
  },
  {
   "cell_type": "code",
   "execution_count": null,
   "metadata": {
    "collapsed": true
   },
   "outputs": [],
   "source": [
    "class BankAccount:\n",
    "    \n",
    "    def __init__(self, bal):\n",
    "        self.__balance = bal\n",
    "        \n",
    "    def deposit(self, amount):\n",
    "        self.__balance += amount\n",
    "        \n",
    "    def withdraw(self, amount):\n",
    "        if self.__balance >= amount:\n",
    "            self.__balance -= amount\n",
    "        else:\n",
    "            print(\"Error: Insufficient funds\")\n",
    "            \n",
    "    def get_balance(self):\n",
    "        return self.__balance"
   ]
  },
  {
   "cell_type": "code",
   "execution_count": null,
   "metadata": {
    "collapsed": true
   },
   "outputs": [],
   "source": [
    "class CellPhone:\n",
    "    \n",
    "    def __init__(self, manufact, model, price):\n",
    "        self.__manufact = manufact\n",
    "        self.__model = model\n",
    "        self.__retail_price = price\n",
    "        \n",
    "    def set_manufact(self, manufact):\n",
    "        self.__manufact = manufact\n",
    "    def set_model(self, model):\n",
    "        self.__model = model\n",
    "    def set_retail_price(self, price):\n",
    "        self.__retail_price = price\n",
    "    def get_manufact(self):\n",
    "        return self.__manufact\n",
    "    def get_model(self):\n",
    "        return self.__model\n",
    "    def get_retail_price(self):\n",
    "        return self.__retail_price"
   ]
  },
  {
   "cell_type": "code",
   "execution_count": 47,
   "metadata": {
    "collapsed": false
   },
   "outputs": [
    {
     "name": "stdout",
     "output_type": "stream",
     "text": [
      "Enter a interger: 100\n",
      "The factorial of 100 is 93326215443944152681699238856266700490715968264381621468592963895217599993229915608941463976156518286253697920827223758251185210916864000000000000000000000000\n"
     ]
    }
   ],
   "source": [
    "def main():\n",
    "    number = int(input(\"Enter a interger: \"))\n",
    "    \n",
    "    fact = factorial(number)\n",
    "    print(\"The factorial of\", number, \"is\", fact)\n",
    "def factorial(num):\n",
    "    if num == 0:\n",
    "        return 1\n",
    "    else:\n",
    "        return num * factorial(num - 1)\n",
    "main()"
   ]
  },
  {
   "cell_type": "code",
   "execution_count": 48,
   "metadata": {
    "collapsed": true
   },
   "outputs": [],
   "source": [
    "import tkinter\n",
    "\n",
    "def main():\n",
    "    main_window = tkinter.Tk()\n",
    "    tkinter.mainloop()\n",
    "main()"
   ]
  },
  {
   "cell_type": "code",
   "execution_count": 3,
   "metadata": {
    "collapsed": false
   },
   "outputs": [
    {
     "data": {
      "image/png": "[encoded data removed]",
      "text/plain": [
       "<matplotlib.figure.Figure at 0x109621f60>"
      ]
     },
     "metadata": {},
     "output_type": "display_data"
    }
   ],
   "source": [
    "import matplotlib.pyplot as plt\n",
    "\n",
    "x = [[6], [8], [10], [14], [18]]\n",
    "y = [[7], [9], [13], [17.5], [18]]\n",
    "plt.figure()\n",
    "plt.title('Pizza price plotted against diameter')\n",
    "plt.xlabel('Diameter in inches')\n",
    "plt.ylabel('Price in dollare')\n",
    "plt.plot(x, y)\n",
    "plt.axis([0, 25, 0, 25])\n",
    "plt.grid(True)\n",
    "plt.show()"
   ]
  },
  {
   "cell_type": "code",
   "execution_count": 13,
   "metadata": {
    "collapsed": false,
    "scrolled": true
   },
   "outputs": [
    {
     "name": "stdout",
     "output_type": "stream",
     "text": [
      "[[ 13.68103448]]\n"
     ]
    },
    {
     "name": "stderr",
     "output_type": "stream",
     "text": [
      "/Library/Frameworks/Python.framework/Versions/3.5/lib/python3.5/site-packages/sklearn/utils/validation.py:395: DeprecationWarning: Passing 1d arrays as data is deprecated in 0.17 and will raise ValueError in 0.19. Reshape your data either using X.reshape(-1, 1) if your data has a single feature or X.reshape(1, -1) if it contains a single sample.\n",
      "  DeprecationWarning)\n"
     ]
    }
   ],
   "source": [
    "from sklearn.linear_model import LinearRegression\n",
    "x = [[6], [8], [10], [14], [18]]\n",
    "y = [[7], [9], [13], [17.5], [18]]\n",
    "model = LinearRegression()\n",
    "model.fit(x, y)\n",
    "print(model.predict([12]))"
   ]
  },
  {
   "cell_type": "code",
   "execution_count": 15,
   "metadata": {
    "collapsed": false
   },
   "outputs": [
    {
     "name": "stdout",
     "output_type": "stream",
     "text": [
      "Residual sum of squares:  1.26217744835e-31\n"
     ]
    }
   ],
   "source": [
    "import numpy as np\n",
    "print('Residual sum of squares: ', np.mean(model.predict(x)-y)**2)"
   ]
  }
 ],
 "metadata": {
  "kernelspec": {
   "display_name": "Python 3",
   "language": "python",
   "name": "python3"
  },
  "language_info": {
   "codemirror_mode": {
    "name": "ipython",
    "version": 3
   },
   "file_extension": ".py",
   "mimetype": "text/x-python",
   "name": "python",
   "nbconvert_exporter": "python",
   "pygments_lexer": "ipython3",
   "version": "3.5.2"
  }
 },
 "nbformat": 4,
 "nbformat_minor": 1
}
